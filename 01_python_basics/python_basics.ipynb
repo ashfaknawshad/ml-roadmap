{
  "nbformat": 4,
  "nbformat_minor": 0,
  "metadata": {
    "colab": {
      "provenance": [],
      "authorship_tag": "ABX9TyN0Mqajb7tRAfuJnTg4JUsm",
      "include_colab_link": true
    },
    "kernelspec": {
      "name": "python3",
      "display_name": "Python 3"
    },
    "language_info": {
      "name": "python"
    }
  },
  "cells": [
    {
      "cell_type": "markdown",
      "metadata": {
        "id": "view-in-github",
        "colab_type": "text"
      },
      "source": [
        "<a href=\"https://colab.research.google.com/github/ashfaknawshad/ml-roadmap/blob/main/01_python_basics/python_basics.ipynb\" target=\"_parent\"><img src=\"https://colab.research.google.com/assets/colab-badge.svg\" alt=\"Open In Colab\"/></a>"
      ]
    },
    {
      "cell_type": "code",
      "execution_count": 1,
      "metadata": {
        "id": "s5m8S3_jaWSA"
      },
      "outputs": [],
      "source": [
        "#Lesson 1: Python basics for ML"
      ]
    },
    {
      "cell_type": "code",
      "source": [
        "print(\"Welcome to Python for ML\")"
      ],
      "metadata": {
        "colab": {
          "base_uri": "https://localhost:8080/"
        },
        "id": "LV-ETgd5a5u1",
        "outputId": "bdb8a597-6269-4a99-b297-0a4c7f22f3b6"
      },
      "execution_count": 2,
      "outputs": [
        {
          "output_type": "stream",
          "name": "stdout",
          "text": [
            "Welcome to Python for ML\n"
          ]
        }
      ]
    },
    {
      "cell_type": "code",
      "source": [
        "#VARIABLES AND TYPES\n",
        "x=10\n",
        "y=3.14\n",
        "name=\"AI Student\"\n",
        "is_ready= True\n",
        "\n",
        "print(type(x), type(y), type(name), type(is_ready))"
      ],
      "metadata": {
        "colab": {
          "base_uri": "https://localhost:8080/"
        },
        "id": "Bto109uka9Y0",
        "outputId": "583b92f0-ed62-42fc-a674-dd389eaf76d8"
      },
      "execution_count": 9,
      "outputs": [
        {
          "output_type": "stream",
          "name": "stdout",
          "text": [
            "<class 'int'> <class 'float'> <class 'str'> <class 'bool'>\n"
          ]
        }
      ]
    },
    {
      "cell_type": "code",
      "source": [
        "#LISTS\n",
        "numbers=[1,2,3,4,5]\n",
        "print(\"List: \",numbers)\n",
        "print(\"First element: \", numbers[0])\n",
        "print(\"Sum:\", sum(numbers))"
      ],
      "metadata": {
        "colab": {
          "base_uri": "https://localhost:8080/"
        },
        "id": "JeDXLCKwbP_c",
        "outputId": "c22574d3-5427-4d19-ed54-aad84bdb816e"
      },
      "execution_count": 6,
      "outputs": [
        {
          "output_type": "stream",
          "name": "stdout",
          "text": [
            "List:  [1, 2, 3, 4, 5]\n",
            "First element:  1\n",
            "Sum: 15\n"
          ]
        }
      ]
    },
    {
      "cell_type": "code",
      "source": [
        "#LOOPS\n",
        "for i in range(5):\n",
        "  print(f\"Loop iteration {i}\")"
      ],
      "metadata": {
        "colab": {
          "base_uri": "https://localhost:8080/"
        },
        "id": "9954nQrhbtl0",
        "outputId": "23156ae4-7144-4b80-925e-3ab55147a127"
      },
      "execution_count": 7,
      "outputs": [
        {
          "output_type": "stream",
          "name": "stdout",
          "text": [
            "Loop iteration 0\n",
            "Loop iteration 1\n",
            "Loop iteration 2\n",
            "Loop iteration 3\n",
            "Loop iteration 4\n"
          ]
        }
      ]
    },
    {
      "cell_type": "code",
      "source": [
        "#FUNCTIONS\n",
        "def greet(person):\n",
        "  return f\"Hello, {person}!\"\n",
        "\n",
        "print(greet(\"AI Learner\"))"
      ],
      "metadata": {
        "colab": {
          "base_uri": "https://localhost:8080/"
        },
        "id": "Eiqz0ueYb8YT",
        "outputId": "6c7da709-0f7a-4533-ea1a-9b6b37deeb73"
      },
      "execution_count": 8,
      "outputs": [
        {
          "output_type": "stream",
          "name": "stdout",
          "text": [
            "Hello, AI Learner!\n"
          ]
        }
      ]
    },
    {
      "cell_type": "code",
      "source": [
        "# --- NUMPY BASICS ---\n",
        "import numpy as np\n",
        "\n",
        "a = np.array([1, 2, 3, 4])\n",
        "b = np.array([10, 20, 30, 40])\n",
        "\n",
        "print(\"a + b =\", a + b)\n",
        "print(\"a * b =\", a * b)\n",
        "print(\"Mean of a:\", np.mean(a))\n",
        "print(\"Square roots:\", np.sqrt(a))"
      ],
      "metadata": {
        "colab": {
          "base_uri": "https://localhost:8080/"
        },
        "id": "_yMTalztcLR0",
        "outputId": "6919662e-2b88-4207-fbf2-37cd1205ed53"
      },
      "execution_count": 12,
      "outputs": [
        {
          "output_type": "stream",
          "name": "stdout",
          "text": [
            "a + b = [11 22 33 44]\n",
            "a * b = [ 10  40  90 160]\n",
            "Mean of a: 2.5\n",
            "Square roots: [1.         1.41421356 1.73205081 2.        ]\n"
          ]
        }
      ]
    },
    {
      "cell_type": "code",
      "source": [],
      "metadata": {
        "id": "xdzgvOpBcXmj"
      },
      "execution_count": null,
      "outputs": []
    }
  ]
}